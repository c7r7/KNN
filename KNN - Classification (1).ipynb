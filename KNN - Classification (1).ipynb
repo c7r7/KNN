{
 "cells": [
  {
   "cell_type": "markdown",
   "metadata": {},
   "source": [
    "# KNN Classification"
   ]
  },
  {
   "cell_type": "code",
   "execution_count": 1,
   "metadata": {},
   "outputs": [],
   "source": [
    "import numpy as np\n",
    "import pandas as np\n",
    "import seaborn as sb\n",
    "import matplotlib.pyplot as plt"
   ]
  },
  {
   "cell_type": "code",
   "execution_count": 3,
   "metadata": {},
   "outputs": [
    {
     "name": "stdout",
     "output_type": "stream",
     "text": [
      "Shape:  (116, 10)\n",
      "Features:       Age        BMI  Glucose  Insulin      HOMA   Leptin  Adiponectin  \\\n",
      "0     48  23.500000       70    2.707  0.467409   8.8071     9.702400   \n",
      "1     83  20.690495       92    3.115  0.706897   8.8438     5.429285   \n",
      "2     82  23.124670       91    4.498  1.009651  17.9393    22.432040   \n",
      "3     68  21.367521       77    3.226  0.612725   9.8827     7.169560   \n",
      "4     86  21.111111       92    3.549  0.805386   6.6994     4.819240   \n",
      "..   ...        ...      ...      ...       ...      ...          ...   \n",
      "111   45  26.850000       92    3.330  0.755688  54.6800    12.100000   \n",
      "112   62  26.840000      100    4.530  1.117400  12.4500    21.420000   \n",
      "113   65  32.050000       97    5.730  1.370998  61.4800    22.540000   \n",
      "114   72  25.590000       82    2.820  0.570392  24.9600    33.750000   \n",
      "115   86  27.180000      138   19.910  6.777364  90.2800    14.110000   \n",
      "\n",
      "     Resistin    MCP.1  \n",
      "0     7.99585  417.114  \n",
      "1     4.06405  468.786  \n",
      "2     9.27715  554.697  \n",
      "3    12.76600  928.220  \n",
      "4    10.57635  773.920  \n",
      "..        ...      ...  \n",
      "111  10.96000  268.230  \n",
      "112   7.32000  330.160  \n",
      "113  10.33000  314.050  \n",
      "114   3.27000  392.460  \n",
      "115   4.35000   90.090  \n",
      "\n",
      "[116 rows x 9 columns]\n",
      "Output:  0      1\n",
      "1      1\n",
      "2      1\n",
      "3      1\n",
      "4      1\n",
      "      ..\n",
      "111    2\n",
      "112    2\n",
      "113    2\n",
      "114    2\n",
      "115    2\n",
      "Name: Classification, Length: 116, dtype: int64\n"
     ]
    }
   ],
   "source": [
    "import pandas as pd\n",
    "df=pd.read_excel(\"C:\\\\Users\\\\chara\\\\Downloads\\\\dataR2.xlsx\")\n",
    "print(\"Shape: \",df.shape)\n",
    "print(\"Features: \",df.iloc[:,0:9])\n",
    "print(\"Output: \",df.iloc[:,9])"
   ]
  },
  {
   "cell_type": "code",
   "execution_count": 18,
   "metadata": {},
   "outputs": [
    {
     "name": "stdout",
     "output_type": "stream",
     "text": [
      "Age             48.000000\n",
      "BMI             23.500000\n",
      "Glucose         70.000000\n",
      "Insulin          2.707000\n",
      "HOMA             0.467409\n",
      "Leptin           8.807100\n",
      "Adiponectin      9.702400\n",
      "Resistin         7.995850\n",
      "MCP.1          417.114000\n",
      "Name: 0, dtype: float64\n",
      "1\n"
     ]
    }
   ],
   "source": [
    "print(df.iloc[0,0:9])\n",
    "print(df.iloc[0,9])"
   ]
  },
  {
   "cell_type": "code",
   "execution_count": 19,
   "metadata": {},
   "outputs": [
    {
     "name": "stdout",
     "output_type": "stream",
     "text": [
      "(116, 10)\n"
     ]
    }
   ],
   "source": [
    "print(df.shape)"
   ]
  },
  {
   "cell_type": "code",
   "execution_count": 157,
   "metadata": {},
   "outputs": [],
   "source": [
    "from sklearn.model_selection import train_test_split\n",
    "X_train,X_test,y_train,y_test=train_test_split(df.iloc[:,0:9],df.iloc[:,9],test_size=0.2)"
   ]
  },
  {
   "cell_type": "code",
   "execution_count": 158,
   "metadata": {
    "scrolled": true
   },
   "outputs": [
    {
     "name": "stdout",
     "output_type": "stream",
     "text": [
      "      Age        BMI  Glucose  Insulin      HOMA   Leptin  Adiponectin  \\\n",
      "0    48.0  23.500000     70.0    2.707  0.467409   8.8071     9.702400   \n",
      "1    83.0  20.690495     92.0    3.115  0.706897   8.8438     5.429285   \n",
      "2    82.0  23.124670     91.0    4.498  1.009651  17.9393    22.432040   \n",
      "3    68.0  21.367521     77.0    3.226  0.612725   9.8827     7.169560   \n",
      "4    86.0  21.111111     92.0    3.549  0.805386   6.6994     4.819240   \n",
      "..    ...        ...      ...      ...       ...      ...          ...   \n",
      "111  45.0  26.850000     92.0    3.330  0.755688  54.6800    12.100000   \n",
      "112   NaN        NaN      NaN      NaN       NaN      NaN          NaN   \n",
      "113  65.0  32.050000     97.0    5.730  1.370998  61.4800    22.540000   \n",
      "114  72.0  25.590000     82.0    2.820  0.570392  24.9600    33.750000   \n",
      "115  86.0  27.180000    138.0   19.910  6.777364  90.2800    14.110000   \n",
      "\n",
      "     Resistin    MCP.1   Age    BMI  Glucose  Insulin    HOMA  Leptin  \\\n",
      "0     7.99585  417.114   NaN    NaN      NaN      NaN     NaN     NaN   \n",
      "1     4.06405  468.786   NaN    NaN      NaN      NaN     NaN     NaN   \n",
      "2     9.27715  554.697   NaN    NaN      NaN      NaN     NaN     NaN   \n",
      "3    12.76600  928.220   NaN    NaN      NaN      NaN     NaN     NaN   \n",
      "4    10.57635  773.920   NaN    NaN      NaN      NaN     NaN     NaN   \n",
      "..        ...      ...   ...    ...      ...      ...     ...     ...   \n",
      "111  10.96000  268.230   NaN    NaN      NaN      NaN     NaN     NaN   \n",
      "112       NaN      NaN  62.0  26.84    100.0     4.53  1.1174   12.45   \n",
      "113  10.33000  314.050   NaN    NaN      NaN      NaN     NaN     NaN   \n",
      "114   3.27000  392.460   NaN    NaN      NaN      NaN     NaN     NaN   \n",
      "115   4.35000   90.090   NaN    NaN      NaN      NaN     NaN     NaN   \n",
      "\n",
      "     Adiponectin  Resistin   MCP.1  \n",
      "0            NaN       NaN     NaN  \n",
      "1            NaN       NaN     NaN  \n",
      "2            NaN       NaN     NaN  \n",
      "3            NaN       NaN     NaN  \n",
      "4            NaN       NaN     NaN  \n",
      "..           ...       ...     ...  \n",
      "111          NaN       NaN     NaN  \n",
      "112        21.42      7.32  330.16  \n",
      "113          NaN       NaN     NaN  \n",
      "114          NaN       NaN     NaN  \n",
      "115          NaN       NaN     NaN  \n",
      "\n",
      "[116 rows x 18 columns]\n"
     ]
    }
   ],
   "source": [
    "from sklearn.neighbors import KNeighborsClassifier\n",
    "from sklearn import metrics\n",
    "df1=pd.DataFrame(X_train)\n",
    "df2=pd.DataFrame(X_test)\n",
    "res=pd.concat([df1,df2],axis=1)\n",
    "print(res)"
   ]
  },
  {
   "cell_type": "code",
   "execution_count": 159,
   "metadata": {},
   "outputs": [],
   "source": [
    "df3=pd.DataFrame(y_train)"
   ]
  },
  {
   "cell_type": "code",
   "execution_count": 160,
   "metadata": {
    "scrolled": true
   },
   "outputs": [
    {
     "name": "stdout",
     "output_type": "stream",
     "text": [
      "[1, 2, 3, 4, 5, 6, 7, 8, 9, 10, 11, 12, 13, 14, 15, 16, 17, 18, 19, 20]\n",
      "[0.5416666666666666, 0.4166666666666667, 0.4166666666666667, 0.4583333333333333, 0.5833333333333334, 0.625, 0.5416666666666666, 0.5416666666666666, 0.5416666666666666, 0.5416666666666666, 0.625, 0.5833333333333334, 0.5833333333333334, 0.4583333333333333, 0.5, 0.5416666666666666, 0.5416666666666666, 0.5833333333333334, 0.5416666666666666, 0.5833333333333334]\n"
     ]
    }
   ],
   "source": [
    "Clusters=[]\n",
    "Accuracy=[]\n",
    "for i in range(1,21):\n",
    "    knn=KNeighborsClassifier(n_neighbors=i)\n",
    "    knn.fit(X_train,y_train)\n",
    "    y_pred=knn.predict(X_test)\n",
    "    Clusters.append(i)\n",
    "    Accuracy.append(metrics.accuracy_score(y_test,y_pred))\n",
    "print(Clusters)\n",
    "print(Accuracy)"
   ]
  },
  {
   "cell_type": "code",
   "execution_count": 161,
   "metadata": {},
   "outputs": [
    {
     "data": {
      "image/png": "[encoded data removed]",
      "text/plain": [
       "<Figure size 432x288 with 1 Axes>"
      ]
     },
     "metadata": {
      "needs_background": "light"
     },
     "output_type": "display_data"
    }
   ],
   "source": [
    "plt.title(\"Cluster(k) Vs Accuracy_Score\")\n",
    "plt.xlabel(\"Cluster(k)\")\n",
    "plt.ylabel(\"Accuracy_Score\")\n",
    "plt.plot(Clusters,Accuracy)\n",
    "plt.show()"
   ]
  },
  {
   "cell_type": "code",
   "execution_count": null,
   "metadata": {},
   "outputs": [],
   "source": []
  },
  {
   "cell_type": "code",
   "execution_count": null,
   "metadata": {},
   "outputs": [],
   "source": []
  }
 ],
 "metadata": {
  "kernelspec": {
   "display_name": "Python 3",
   "language": "python",
   "name": "python3"
  },
  "language_info": {
   "codemirror_mode": {
    "name": "ipython",
    "version": 3
   },
   "file_extension": ".py",
   "mimetype": "text/x-python",
   "name": "python",
   "nbconvert_exporter": "python",
   "pygments_lexer": "ipython3",
   "version": "3.8.8"
  }
 },
 "nbformat": 4,
 "nbformat_minor": 4
}
